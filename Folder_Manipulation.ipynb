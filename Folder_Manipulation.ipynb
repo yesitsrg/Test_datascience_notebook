{
 "cells": [
  {
   "cell_type": "markdown",
   "metadata": {},
   "source": [
    "### Task"
   ]
  },
  {
   "cell_type": "markdown",
   "metadata": {},
   "source": [
    "Create 5 folders in the current directory. as folder1, folder2....\n",
    "Create 5 txt files in each of these five folders. (so total 25 txt files). \n",
    "The name of these files are supposed to be the date.. eg. First file should be 2020-08-10.txt (format is YYYY-MM-DD) for today. the rest of the txt files should have yesterday's, day before yesterday's and so on dates.\n",
    "The txt files can be blank. \n",
    "\n",
    " \n",
    "\n",
    "\n",
    "Create a python program that reads all the txt files except the ones that belong to today from all folders (make it dynamic such that when a new folder is added, the program reads it automatically). So in the end the program should read 20 files (5 files that have today's date are to be excluded). Print out the file names here."
   ]
  },
  {
   "cell_type": "markdown",
   "metadata": {},
   "source": [
    "## Solution 1"
   ]
  },
  {
   "cell_type": "code",
   "execution_count": 1,
   "metadata": {},
   "outputs": [],
   "source": [
    "import os"
   ]
  },
  {
   "cell_type": "code",
   "execution_count": 2,
   "metadata": {},
   "outputs": [],
   "source": [
    "PATH=r\"C:\\Users\\RahulG\\Desktop\\Other_data\""
   ]
  },
  {
   "cell_type": "code",
   "execution_count": 6,
   "metadata": {},
   "outputs": [],
   "source": [
    "os.mkdir(os.path.join(PATH,'sub_folder'),mode=777)"
   ]
  },
  {
   "cell_type": "code",
   "execution_count": 4,
   "metadata": {},
   "outputs": [
    {
     "data": {
      "text/plain": [
       "['Migration Task.xlsx',\n",
       " 'Philips_assignment',\n",
       " 'sm_sample.csv',\n",
       " 'stockhm_sample.csv',\n",
       " 'sub_folder']"
      ]
     },
     "execution_count": 4,
     "metadata": {},
     "output_type": "execute_result"
    }
   ],
   "source": [
    "os.listdir(r\"C:\\Users\\RahulG\\Desktop\\Other_data\")"
   ]
  },
  {
   "cell_type": "code",
   "execution_count": 7,
   "metadata": {},
   "outputs": [],
   "source": [
    "PATH1=os.path.join(PATH,'sub_folder')"
   ]
  },
  {
   "cell_type": "code",
   "execution_count": 8,
   "metadata": {},
   "outputs": [
    {
     "data": {
      "text/plain": [
       "'C:\\\\Users\\\\RahulG\\\\Desktop\\\\Other_data\\\\sub_folder'"
      ]
     },
     "execution_count": 8,
     "metadata": {},
     "output_type": "execute_result"
    }
   ],
   "source": [
    "PATH1"
   ]
  },
  {
   "cell_type": "code",
   "execution_count": 11,
   "metadata": {},
   "outputs": [],
   "source": [
    "def file_reader(path):\n",
    "    \n",
    "    \n",
    "    import datetime\n",
    "    today_date=datetime.date.today().strftime('%Y-%m-%d')\n",
    "    \n",
    "    print(today_date)\n",
    "    \n",
    "    read_file_names=[]\n",
    "    \n",
    "    for path,dirs,files in os.walk(path):\n",
    "        \n",
    "        if len(files)>0:\n",
    "            read_file_subset=[x for x in files if today_date not in x]\n",
    "            read_file_names.append(read_file_subset)\n",
    "        \n",
    "    print(read_file_names)"
   ]
  },
  {
   "cell_type": "code",
   "execution_count": 12,
   "metadata": {},
   "outputs": [
    {
     "name": "stdout",
     "output_type": "stream",
     "text": [
      "2020-08-10\n",
      "[['file1_2020-08-07.txt', 'file1_2020-08-08.txt', 'file1_2020-08-09.txt'], ['file_2020-08-07.txt', 'file_2020-08-08.txt', 'file_2020-08-09.txt']]\n"
     ]
    }
   ],
   "source": [
    "file_reader(PATH1)"
   ]
  },
  {
   "cell_type": "code",
   "execution_count": null,
   "metadata": {},
   "outputs": [],
   "source": []
  },
  {
   "cell_type": "markdown",
   "metadata": {},
   "source": [
    "## Solution 2 - Detailed"
   ]
  },
  {
   "cell_type": "code",
   "execution_count": 13,
   "metadata": {},
   "outputs": [],
   "source": [
    "import os\n",
    "from datetime import datetime, timedelta\n",
    "import os.path"
   ]
  },
  {
   "cell_type": "code",
   "execution_count": 16,
   "metadata": {},
   "outputs": [
    {
     "name": "stdout",
     "output_type": "stream",
     "text": [
      "current dir is: C:\\Users\\RahulG\n",
      "Exists\n"
     ]
    }
   ],
   "source": [
    "folder = PATH\n",
    "os.chdir(\".\")\n",
    "print(\"current dir is: %s\" % (os.getcwd()))\n",
    "\n",
    "if os.path.isdir(folder):\n",
    "    print(\"Exists\")\n",
    "else:\n",
    "    #print(\"Doesn't exists\")\n",
    "    for i in range(5):\n",
    "        os.mkdir(folder+'_'+str(i))"
   ]
  },
  {
   "cell_type": "code",
   "execution_count": 17,
   "metadata": {},
   "outputs": [],
   "source": [
    "date = datetime.today().strftime('%Y-%m-%d')\n",
    "pa = os.getcwd()\n",
    "for i in os.listdir():\n",
    "    if i.startswith('folder_'):\n",
    "        #print(os.path.join(pa,i)+'\\\\')\n",
    "        file = open(os.path.join(pa,i)+'\\\\'+date+'.txt', \"w\")\n",
    "        toFile = \"Write what you want into the field\"\n",
    "        file.write(toFile)\n",
    "        file.close()"
   ]
  },
  {
   "cell_type": "code",
   "execution_count": 18,
   "metadata": {},
   "outputs": [],
   "source": [
    "date_list = []\n",
    "for i in range(1,5):\n",
    "    Previous_Date = datetime.today() - timedelta(days=i)\n",
    "    #print(Previous_Date.strftime('%Y-%m-%d'))\n",
    "    date_list.append(Previous_Date.strftime('%Y-%m-%d'))"
   ]
  },
  {
   "cell_type": "code",
   "execution_count": 19,
   "metadata": {},
   "outputs": [
    {
     "data": {
      "text/plain": [
       "['2020-08-09', '2020-08-08', '2020-08-07', '2020-08-06']"
      ]
     },
     "execution_count": 19,
     "metadata": {},
     "output_type": "execute_result"
    }
   ],
   "source": [
    "date_list"
   ]
  },
  {
   "cell_type": "code",
   "execution_count": 20,
   "metadata": {},
   "outputs": [],
   "source": [
    "for i in os.listdir():\n",
    "    if i.startswith('folder_'):\n",
    "        for j in date_list:\n",
    "            file = open(os.path.join(pa,i)+'\\\\'+j+'.txt', \"w\")\n",
    "            toFile = \"Write what you want into the field\"\n",
    "            file.write(toFile)\n",
    "            file.close()"
   ]
  },
  {
   "cell_type": "code",
   "execution_count": 21,
   "metadata": {},
   "outputs": [
    {
     "name": "stdout",
     "output_type": "stream",
     "text": [
      "C:\\Users\\RahulG\\folder_0\\2020-08-06.txt\n",
      "C:\\Users\\RahulG\\folder_0\\2020-08-07.txt\n",
      "C:\\Users\\RahulG\\folder_0\\2020-08-08.txt\n",
      "C:\\Users\\RahulG\\folder_0\\2020-08-09.txt\n",
      "C:\\Users\\RahulG\\folder_1\\2020-08-06.txt\n",
      "C:\\Users\\RahulG\\folder_1\\2020-08-07.txt\n",
      "C:\\Users\\RahulG\\folder_1\\2020-08-08.txt\n",
      "C:\\Users\\RahulG\\folder_1\\2020-08-09.txt\n",
      "C:\\Users\\RahulG\\folder_2\\2020-08-06.txt\n",
      "C:\\Users\\RahulG\\folder_2\\2020-08-07.txt\n",
      "C:\\Users\\RahulG\\folder_2\\2020-08-08.txt\n",
      "C:\\Users\\RahulG\\folder_2\\2020-08-09.txt\n",
      "C:\\Users\\RahulG\\folder_3\\2020-08-06.txt\n",
      "C:\\Users\\RahulG\\folder_3\\2020-08-07.txt\n",
      "C:\\Users\\RahulG\\folder_3\\2020-08-08.txt\n",
      "C:\\Users\\RahulG\\folder_3\\2020-08-09.txt\n",
      "C:\\Users\\RahulG\\folder_4\\2020-08-06.txt\n",
      "C:\\Users\\RahulG\\folder_4\\2020-08-07.txt\n",
      "C:\\Users\\RahulG\\folder_4\\2020-08-08.txt\n",
      "C:\\Users\\RahulG\\folder_4\\2020-08-09.txt\n"
     ]
    }
   ],
   "source": [
    "for i in os.listdir():\n",
    "    if i.startswith('folder_'):\n",
    "        #print(os.path.join(pa,i))\n",
    "        main_path = os.path.join(pa,i)\n",
    "        os.chdir(main_path)\n",
    "        #print(os.getcwd())\n",
    "        curr = os.getcwd()\n",
    "        directory = os.path.join(curr+'\\\\')\n",
    "        #print(\"--\",directory)\n",
    "        for root,dirs,files in os.walk(directory):\n",
    "            for file in files:\n",
    "                if file.endswith(\".txt\"):\n",
    "                    \n",
    "                    if (file[:-4] == date):\n",
    "                        pass\n",
    "                    else :\n",
    "                        print(os.getcwd()+'\\\\'+file) # +str(file)\n",
    "                        f=open(file, 'r')\n",
    "                        f.close()"
   ]
  },
  {
   "cell_type": "code",
   "execution_count": null,
   "metadata": {},
   "outputs": [],
   "source": []
  }
 ],
 "metadata": {
  "kernelspec": {
   "display_name": "Python 3",
   "language": "python",
   "name": "python3"
  },
  "language_info": {
   "codemirror_mode": {
    "name": "ipython",
    "version": 3
   },
   "file_extension": ".py",
   "mimetype": "text/x-python",
   "name": "python",
   "nbconvert_exporter": "python",
   "pygments_lexer": "ipython3",
   "version": "3.7.4"
  }
 },
 "nbformat": 4,
 "nbformat_minor": 2
}
